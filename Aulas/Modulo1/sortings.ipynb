{
 "cells": [
  {
   "cell_type": "code",
   "execution_count": 75,
   "metadata": {},
   "outputs": [],
   "source": [
    "from typing import List\n",
    "def define_exemplo() -> List[int]:\n",
    "    exemplo = [1, 7, 5, 3, -1]\n",
    "    print(f'Exemplo: {exemplo}')\n",
    "    return exemplo"
   ]
  },
  {
   "cell_type": "code",
   "execution_count": 88,
   "metadata": {},
   "outputs": [
    {
     "name": "stdout",
     "output_type": "stream",
     "text": [
      "Exemplo: [1, 7, 5, 3, -1]\n",
      "[1,2] - [1, 7, 5, 3, -1] - trocou\n",
      "[2,3] - [1, 5, 7, 3, -1] - trocou\n",
      "[3,4] - [1, 5, 3, 7, -1] - trocou\n",
      "[1,2] - [1, 5, 3, -1, 7] - trocou\n",
      "[2,3] - [1, 3, 5, -1, 7] - trocou\n",
      "[1,2] - [1, 3, -1, 5, 7] - trocou\n",
      "[0,1] - [1, -1, 3, 5, 7] - trocou\n",
      "\n",
      "Ordenado: [-1, 1, 3, 5, 7]\n"
     ]
    }
   ],
   "source": [
    "# bubblesort py\n",
    "# compara elementos adjacentes e os troca de posição se estiverem na ordem errada\n",
    "# O(n^2)\n",
    "def bubble_sort(a):\n",
    "    for i in range(len(a)):\n",
    "        for j in range(0, len(a)-i-1):\n",
    "            #print(f'[{i},{j}] - {a}')\n",
    "\n",
    "            if a[j] > a[j+1]:\n",
    "                print(f'[{j},{j+1}] - {a} - trocou')\n",
    "                a[j], a[j+1] = a[j+1], a[j]\n",
    "    return a\n",
    "\n",
    "exemplo = define_exemplo()\n",
    "print(f'\\nOrdenado: {bubble_sort(exemplo)}')\n",
    "assert(insertion_sort(exemplo) == [-1, 1, 3, 5, 7]) # verifica se o array está ordenado\n",
    "                "
   ]
  },
  {
   "cell_type": "code",
   "execution_count": 87,
   "metadata": {},
   "outputs": [
    {
     "name": "stdout",
     "output_type": "stream",
     "text": [
      "Exemplo: [1, 7, 5, 3, -1]\n",
      "[0,4] - [-1, 7, 5, 3, 1] - trocou\n",
      "[1,4] - [-1, 1, 5, 3, 7] - trocou\n",
      "[2,3] - [-1, 1, 3, 5, 7] - trocou\n",
      "[3,3] - [-1, 1, 3, 5, 7] - trocou\n",
      "[4,4] - [-1, 1, 3, 5, 7] - trocou\n",
      "\n",
      "Ordenado: [-1, 1, 3, 5, 7]\n"
     ]
    }
   ],
   "source": [
    "# selection sort\n",
    "# encontra o menor elemento e o coloca no início\n",
    "# O(n^2)\n",
    "def selection_sort(a):\n",
    "    for i in range(0, len(a)):\n",
    "        min = i\n",
    "\n",
    "        for j in range(i+1, len(a)):\n",
    "            if a[j] < a[min]:\n",
    "                min = j\n",
    "\n",
    "        a[i], a[min] = a[min], a[i]\n",
    "        print(f'[{i},{min}] - {a} - trocou')\n",
    "    return a\n",
    "\n",
    "exemplo = define_exemplo()\n",
    "print(f'\\nOrdenado: {selection_sort(exemplo)}')\n",
    "assert(insertion_sort(exemplo) == [-1, 1, 3, 5, 7]) # verifica se o array está ordenado\n"
   ]
  },
  {
   "cell_type": "code",
   "execution_count": 89,
   "metadata": {},
   "outputs": [
    {
     "name": "stdout",
     "output_type": "stream",
     "text": [
      "Exemplo: [1, 7, 5, 3, -1]\n",
      "[2,1] - [1, 5, 7, 3, -1] - trocou\n",
      "[3,2] - [1, 5, 3, 7, -1] - trocou\n",
      "[2,1] - [1, 3, 5, 7, -1] - trocou\n",
      "[4,3] - [1, 3, 5, -1, 7] - trocou\n",
      "[3,2] - [1, 3, -1, 5, 7] - trocou\n",
      "[2,1] - [1, -1, 3, 5, 7] - trocou\n",
      "[1,0] - [-1, 1, 3, 5, 7] - trocou\n",
      "\n",
      "Ordenado: [-1, 1, 3, 5, 7]\n"
     ]
    }
   ],
   "source": [
    "# insertion sort\n",
    "# percorre a lista e insere cada elemento na posição correta\n",
    "# O(n^2)\n",
    "def insertion_sort(a):\n",
    "    for i in range(1, len(a)):\n",
    "        j = i\n",
    "        while j > 0 and a[j-1] > a[j]:\n",
    "            a[j], a[j-1] = a[j-1], a[j]\n",
    "            print(f'[{j},{j-1}] - {a} - trocou')\n",
    "            j -= 1  # decrement j to continue comparing previous elements\n",
    "\n",
    "    return a\n",
    "\n",
    "exemplo = define_exemplo()\n",
    "print(f'\\nOrdenado: {insertion_sort(exemplo)}')\n",
    "assert(insertion_sort(exemplo) == [-1, 1, 3, 5, 7]) # verifica se o array está ordenado"
   ]
  },
  {
   "cell_type": "code",
   "execution_count": 91,
   "metadata": {},
   "outputs": [
    {
     "name": "stdout",
     "output_type": "stream",
     "text": [
      "Exemplo: [1, 7, 5, 3, -1]\n",
      "\n",
      "Ordenado: [-1, 1, 3, 5, 7]\n"
     ]
    }
   ],
   "source": [
    "# merge sort\n",
    "# divide a lista em duas metades, ordena cada metade e depois junta\n",
    "# O(n log n)\n",
    "def merge_sort(a):\n",
    "    if len(a) <= 1:\n",
    "        return a\n",
    "    mid = len(a) // 2\n",
    "    left = a[:mid]\n",
    "    right = a[mid:]\n",
    "    left = merge_sort(left)\n",
    "    right = merge_sort(right)\n",
    "    return merge(left, right)\n",
    "\n",
    "def merge(left, right):\n",
    "    result = []\n",
    "    i = j = 0\n",
    "    while i < len(left) and j < len(right):\n",
    "        if left[i] < right[j]:\n",
    "            result.append(left[i])\n",
    "            i += 1\n",
    "        else:\n",
    "            result.append(right[j])\n",
    "            j += 1\n",
    "    result.extend(left[i:])\n",
    "    result.extend(right[j:])\n",
    "    return result\n",
    "\n",
    "exemplo = define_exemplo()\n",
    "print(f'\\nOrdenado: {merge_sort(exemplo)}')\n",
    "assert(merge_sort(exemplo) == [-1, 1, 3, 5, 7]) # verifica se o array está ordenado\n"
   ]
  },
  {
   "cell_type": "code",
   "execution_count": 94,
   "metadata": {},
   "outputs": [
    {
     "name": "stdout",
     "output_type": "stream",
     "text": [
      "Exemplo: [1, 7, 5, 3, -1]\n",
      "[1, 7, 5, 3, -1]\n",
      "[1, 3, -1]\n",
      "[1, -1]\n",
      "[]\n",
      "[1]\n",
      "[]\n",
      "[7]\n",
      "\n",
      "Ordenado: [-1, 1, 3, 5, 7]\n",
      "[1, 7, 5, 3, -1]\n",
      "[1, 3, -1]\n",
      "[1, -1]\n",
      "[]\n",
      "[1]\n",
      "[]\n",
      "[7]\n"
     ]
    }
   ],
   "source": [
    "# quick sort\n",
    "# escolhe um elemento como pivô e divide a lista em duas partes\n",
    "# O(n log n)\n",
    "def quick_sort(a):\n",
    "    print(a)\n",
    "\n",
    "    if len(a) <= 1:\n",
    "        return a\n",
    "    pivot = a[len(a) // 2]\n",
    "    left = [x for x in a if x < pivot]\n",
    "    middle = [x for x in a if x == pivot]\n",
    "    right = [x for x in a if x > pivot]\n",
    "    return quick_sort(left) + middle + quick_sort(right)\n",
    "\n",
    "exemplo = define_exemplo()\n",
    "print(f'\\nOrdenado: {quick_sort(exemplo)}')\n",
    "assert(quick_sort(exemplo) == [-1, 1, 3, 5, 7]) # verifica se o array está ordenado\n"
   ]
  },
  {
   "cell_type": "code",
   "execution_count": null,
   "metadata": {},
   "outputs": [],
   "source": [
    "# heap sort\n",
    "# cria uma árvore binária e a transforma em heap\n",
    "# O(n log n)\n",
    "def heapify(a, n, i):\n",
    "    largest = i\n",
    "    l = 2 * i + 1\n",
    "    r = 2 * i + 2\n",
    "    if l < n and a[i] < a[l]:\n",
    "        largest = l\n",
    "    if r < n and a[largest] < a[r]:\n",
    "        largest = r\n",
    "    if largest != i:\n",
    "        a[i], a[largest] = a[largest], a[i]\n",
    "        heapify(a, n, largest)\n",
    "    return a\n",
    "\n",
    "exemplo = define_exemplo()\n",
    "print(f'\\nOrdenado: {heapify(exemplo)}')\n",
    "assert(heapify(exemplo) == [-1, 1, 3, 5, 7]) # verifica se o array está ordenado"
   ]
  }
 ],
 "metadata": {
  "kernelspec": {
   "display_name": "Python 3",
   "language": "python",
   "name": "python3"
  },
  "language_info": {
   "codemirror_mode": {
    "name": "ipython",
    "version": 3
   },
   "file_extension": ".py",
   "mimetype": "text/x-python",
   "name": "python",
   "nbconvert_exporter": "python",
   "pygments_lexer": "ipython3",
   "version": "3.11.4"
  }
 },
 "nbformat": 4,
 "nbformat_minor": 2
}
