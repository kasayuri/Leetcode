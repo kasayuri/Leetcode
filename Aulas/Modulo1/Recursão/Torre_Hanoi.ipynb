{
  "cells": [
    {
      "cell_type": "markdown",
      "metadata": {
        "id": "view-in-github",
        "colab_type": "text"
      },
      "source": [
        "<a href=\"https://colab.research.google.com/github/kasayuri/Leetcode/blob/main/Aulas/Modulo1/Recurs%C3%A3o/Torre_Hanoi.ipynb\" target=\"_parent\"><img src=\"https://colab.research.google.com/assets/colab-badge.svg\" alt=\"Open In Colab\"/></a>"
      ]
    },
    {
      "cell_type": "markdown",
      "metadata": {
        "id": "SRqaRXwZHdaC"
      },
      "source": [
        "# Torre de Hanoi\n",
        "\n"
      ]
    },
    {
      "cell_type": "code",
      "execution_count": 2,
      "metadata": {
        "id": "5vTrsVldHdaD",
        "outputId": "a4f14c1e-cb00-4b80-f101-46e949d4d543",
        "colab": {
          "base_uri": "https://localhost:8080/"
        }
      },
      "outputs": [
        {
          "output_type": "stream",
          "name": "stdout",
          "text": [
            "Move disk 1 from A to C\n",
            "Move disk 2 from A to B\n",
            "Move disk 1 from C to B\n",
            "Move disk 3 from A to C\n",
            "Move disk 1 from B to A\n",
            "Move disk 2 from B to C\n",
            "Move disk 1 from A to C\n",
            "None\n"
          ]
        }
      ],
      "source": [
        "def hanoi(n, sourceStem, auxStem, targetStem):\n",
        "    if n >= 1:\n",
        "        hanoi(n - 1, sourceStem, targetStem, auxStem)\n",
        "        print(\"Move disk\", n, \"from\", sourceStem, \"to\", targetStem)\n",
        "        hanoi(n - 1, auxStem, sourceStem, targetStem)\n",
        "\n",
        "print(hanoi(3, \"A\", \"B\", \"C\"))"
      ]
    },
    {
      "cell_type": "code",
      "execution_count": 1,
      "metadata": {
        "id": "VA6T3iQQHdaE",
        "outputId": "3795df7d-550e-4df2-b08b-89eed23428bb",
        "colab": {
          "base_uri": "https://localhost:8080/"
        }
      },
      "outputs": [
        {
          "output_type": "stream",
          "name": "stdout",
          "text": [
            "Move disk 1 from A to C\n",
            "Move disk 2 from A to B\n",
            "Move disk 1 from C to B\n",
            "Move disk 3 from A to C\n",
            "Move disk 1 from B to A\n",
            "Move disk 2 from B to C\n",
            "Move disk 1 from A to C\n",
            "7\n"
          ]
        }
      ],
      "source": [
        "def hanoi(n, sourceStem, auxStem, targetStem):\n",
        "    counter = 0\n",
        "    if n >= 1:\n",
        "        counter += hanoi(n-1, sourceStem, targetStem, auxStem)\n",
        "        print(\"Move disk\", n, \"from\", sourceStem, \"to\", targetStem)\n",
        "        counter += 1\n",
        "        counter += hanoi(n-1, auxStem, sourceStem, targetStem)\n",
        "    return counter\n",
        "\n",
        "print(hanoi(3, \"A\", \"B\", \"C\"))"
      ]
    }
  ],
  "metadata": {
    "kernelspec": {
      "display_name": "Python 3",
      "language": "python",
      "name": "python3"
    },
    "language_info": {
      "name": "python",
      "version": "3.13.0"
    },
    "colab": {
      "provenance": [],
      "include_colab_link": true
    }
  },
  "nbformat": 4,
  "nbformat_minor": 0
}