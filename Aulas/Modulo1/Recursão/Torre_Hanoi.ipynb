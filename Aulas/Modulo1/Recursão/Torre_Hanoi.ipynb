{
 "cells": [
  {
   "cell_type": "markdown",
   "metadata": {},
   "source": [
    "# Torre de Hanoi\n",
    "\n"
   ]
  },
  {
   "cell_type": "code",
   "execution_count": null,
   "metadata": {},
   "outputs": [],
   "source": [
    "def hanoi(n, sourceStem, auxStem, targetStem):\n",
    "    if n >= 1:\n",
    "        hanoi(n - 1, sourceStem, targetStem, auxStem)\n",
    "        print(\"Move disk\", n, \"from\", sourceStem, \"to\", targetStem)\n",
    "        hanoi(n - 1, auxStem, sourceStem, targetStem)\n",
    "\n",
    "print(hanoi(3, \"A\", \"B\", \"C\"))"
   ]
  },
  {
   "cell_type": "code",
   "execution_count": null,
   "metadata": {},
   "outputs": [
    {
     "ename": "",
     "evalue": "",
     "output_type": "error",
     "traceback": [
      "\u001b[1;31mA execução de células com 'Python 3.13.0' requer o pacote ipykernel.\n",
      "\u001b[1;31mExecute o seguinte comando para instalar \"ipykernel\" no ambiente do Python. \n",
      "\u001b[1;31mComando: \"/opt/homebrew/bin/python3 -m pip install ipykernel -U --user --force-reinstall\""
     ]
    }
   ],
   "source": [
    "def hanoi(n, sourceStem, auxStem, targetStem):\n",
    "    counter = 0\n",
    "    if n >= 1:\n",
    "        counter += hanoi(n-1, sourceStem, targetStem, auxStem)\n",
    "        print(\"Move disk\", n, \"from\", sourceStem, \"to\", targetStem)\n",
    "        counter += 1\n",
    "        counter += hanoi(n-1, auxStem, sourceStem, targetStem)\n",
    "    return counter\n",
    "\n",
    "print(hanoi(3, \"A\", \"B\", \"C\"))"
   ]
  }
 ],
 "metadata": {
  "kernelspec": {
   "display_name": "Python 3",
   "language": "python",
   "name": "python3"
  },
  "language_info": {
   "name": "python",
   "version": "3.13.0"
  }
 },
 "nbformat": 4,
 "nbformat_minor": 2
}
