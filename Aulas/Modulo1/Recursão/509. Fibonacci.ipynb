{
 "cells": [
  {
   "cell_type": "markdown",
   "metadata": {},
   "source": [
    "# 509. Fibonacci Number\n",
    "\n",
    "The Fibonacci numbers, commonly denoted F(n) form a sequence, called the Fibonacci sequence, such that each number is the sum of the two preceding ones, starting from 0 and 1. That is,\n",
    "\n",
    "F(0) = 0, F(1) = 1\n",
    "\n",
    "F(n) = F(n - 1) + F(n - 2), for n > 1.\n",
    "\n",
    "Given `n`, calculate `F(n)`.\n",
    "\n",
    "\n",
    "### Example 1:\n",
    "\n",
    ">Input: n = 2 \n",
    "\n",
    ">Output: 1\n",
    "\n",
    ">Explanation: F(2) = F(1) + F(0) = 1 + 0 = 1.\n",
    "\n",
    "### Example 2:\n",
    "\n",
    ">Input: n = 3\n",
    "\n",
    ">Output: 2\n",
    "\n",
    ">Explanation: F(3) = F(2) + F(1) = 1 + 1 = 2.\n",
    "\n",
    "### Example 3:\n",
    "\n",
    ">Input: n = 4\n",
    "\n",
    ">Output: 3\n",
    "\n",
    ">Explanation: F(4) = F(3) + F(2) = 2 + 1 = 3.\n",
    " \n",
    "\n",
    "Constraints:\n",
    "\n",
    "- `0 <= n <= 30`\n"
   ]
  },
  {
   "cell_type": "code",
   "execution_count": null,
   "metadata": {},
   "outputs": [
    {
     "ename": "",
     "evalue": "",
     "output_type": "error",
     "traceback": [
      "\u001b[1;31mA execução de células com 'Python 3.13.0' requer o pacote ipykernel.\n",
      "\u001b[1;31mExecute o seguinte comando para instalar \"ipykernel\" no ambiente do Python. \n",
      "\u001b[1;31mComando: \"/opt/homebrew/bin/python3 -m pip install ipykernel -U --user --force-reinstall\""
     ]
    }
   ],
   "source": [
    "# exemplo: [0 1 1 2 3 5 8 13 21]\n",
    "\n",
    "class Solution:\n",
    "    def fib(self, n: int) -> int:\n",
    "        if (n == 1):\n",
    "            return 1\n",
    "        if (n == 0):\n",
    "            return 0\n",
    "        \n",
    "        return self.fib(n - 1) + self.fib(n - 2)"
   ]
  }
 ],
 "metadata": {
  "kernelspec": {
   "display_name": "Python 3",
   "language": "python",
   "name": "python3"
  },
  "language_info": {
   "name": "python",
   "version": "3.13.0"
  }
 },
 "nbformat": 4,
 "nbformat_minor": 2
}
