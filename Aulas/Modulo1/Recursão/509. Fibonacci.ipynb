{
  "cells": [
    {
      "cell_type": "markdown",
      "metadata": {
        "id": "view-in-github",
        "colab_type": "text"
      },
      "source": [
        "<a href=\"https://colab.research.google.com/github/kasayuri/Leetcode/blob/main/Aulas/Modulo1/Recurs%C3%A3o/509.%20Fibonacci.ipynb\" target=\"_parent\"><img src=\"https://colab.research.google.com/assets/colab-badge.svg\" alt=\"Open In Colab\"/></a>"
      ]
    },
    {
      "cell_type": "markdown",
      "metadata": {
        "id": "J9ti4cxRH6Hf"
      },
      "source": [
        "# 509. Fibonacci Number\n",
        "\n",
        "The Fibonacci numbers, commonly denoted F(n) form a sequence, called the Fibonacci sequence, such that each number is the sum of the two preceding ones, starting from 0 and 1. That is,\n",
        "\n",
        "F(0) = 0, F(1) = 1\n",
        "\n",
        "F(n) = F(n - 1) + F(n - 2), for n > 1.\n",
        "\n",
        "Given `n`, calculate `F(n)`.\n",
        "\n",
        "\n",
        "### Example 1:\n",
        "\n",
        ">Input: n = 2\n",
        "\n",
        ">Output: 1\n",
        "\n",
        ">Explanation: F(2) = F(1) + F(0) = 1 + 0 = 1.\n",
        "\n",
        "### Example 2:\n",
        "\n",
        ">Input: n = 3\n",
        "\n",
        ">Output: 2\n",
        "\n",
        ">Explanation: F(3) = F(2) + F(1) = 1 + 1 = 2.\n",
        "\n",
        "### Example 3:\n",
        "\n",
        ">Input: n = 4\n",
        "\n",
        ">Output: 3\n",
        "\n",
        ">Explanation: F(4) = F(3) + F(2) = 2 + 1 = 3.\n",
        "\n",
        "\n",
        "Constraints:\n",
        "\n",
        "- `0 <= n <= 30`\n"
      ]
    },
    {
      "cell_type": "code",
      "execution_count": 7,
      "metadata": {
        "id": "MUfb6CT1H6Hh",
        "outputId": "62d21832-64dd-4b14-d9f8-e41e9d3ccbb6",
        "colab": {
          "base_uri": "https://localhost:8080/"
        }
      },
      "outputs": [
        {
          "output_type": "stream",
          "name": "stdout",
          "text": [
            "3\n"
          ]
        }
      ],
      "source": [
        "# exemplo: [0 1 1 2 3 5 8 13 21]\n",
        "\n",
        "class Solution:\n",
        "    def fib(self, n: int) -> int:\n",
        "        if (n == 1):\n",
        "            return 1\n",
        "        if (n == 0):\n",
        "            return 0\n",
        "\n",
        "        return self.fib(n - 1) + self.fib(n - 2)\n",
        "\n",
        "solution = Solution()\n",
        "print(solution.fib(4))"
      ]
    }
  ],
  "metadata": {
    "kernelspec": {
      "display_name": "Python 3",
      "language": "python",
      "name": "python3"
    },
    "language_info": {
      "name": "python",
      "version": "3.13.0"
    },
    "colab": {
      "provenance": [],
      "include_colab_link": true
    }
  },
  "nbformat": 4,
  "nbformat_minor": 0
}